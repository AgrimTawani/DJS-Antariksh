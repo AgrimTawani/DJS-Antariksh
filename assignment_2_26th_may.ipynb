{
 "cells": [
  {
   "cell_type": "code",
   "execution_count": null,
   "metadata": {},
   "outputs": [],
   "source": [
    "# args, kwargs\n",
    "# lamda\n",
    "# decorators    \n",
    "# oop"
   ]
  },
  {
   "cell_type": "code",
   "execution_count": 4,
   "metadata": {},
   "outputs": [],
   "source": [
    "# Recursive Function to find factorial  \n",
    "# Simple calculator\n",
    "# Shopping list\n",
    "# Student marks\n",
    "# filter even words using lambda\n",
    "# Extract year, month, date and time using Lambda\n",
    "# Sorting tuples using lamda\n",
    "# Calculate sum of positive and negative nums\n",
    "# Decorator to validate function arguments\n",
    "# Convert value to string\n",
    "# Retry functions \n",
    "\n",
    "# Bank Account Statement \n",
    "# Importing user defined modules \n",
    "\n"
   ]
  },
  {
   "cell_type": "code",
   "execution_count": 35,
   "metadata": {},
   "outputs": [
    {
     "name": "stdout",
     "output_type": "stream",
     "text": [
      "The factorial of 10 is 3628800\n"
     ]
    }
   ],
   "source": [
    "# Recursive Function to find factorial\n",
    "\n",
    "def fact(n):\n",
    "    if n == 0 or n == 1:\n",
    "        return 1\n",
    "    else:\n",
    "        return n * fact(n-1)\n",
    "\n",
    "num = int(input(\"Enter an integer: \"))\n",
    "print(f\"The factorial of {num} is {fact(num)}\")\n"
   ]
  },
  {
   "cell_type": "code",
   "execution_count": 36,
   "metadata": {},
   "outputs": [
    {
     "name": "stdout",
     "output_type": "stream",
     "text": [
      "10\n",
      "6\n"
     ]
    }
   ],
   "source": [
    "# Simple calculator\n",
    "\n",
    "def math_operation(operation, *args, **kwargs):\n",
    "    result = 0\n",
    "    if operation == 'add':\n",
    "        result = sum(args)\n",
    "    elif operation == 'multiply':\n",
    "        result = 1\n",
    "        for arg in args:\n",
    "            result *= arg\n",
    "    \n",
    "    return result\n",
    "\n",
    "print(math_operation('add',1,2,3,4))\n",
    "print(math_operation('multiply', 1, 2, 3))  \n"
   ]
  },
  {
   "cell_type": "code",
   "execution_count": 14,
   "metadata": {},
   "outputs": [
    {
     "name": "stdout",
     "output_type": "stream",
     "text": [
      "Shopping List:\n",
      "- Milk\n",
      "  quantity: 2 liters\n",
      "  brand: Amul\n",
      "- Bread\n",
      "  quantity: 1 loaf\n",
      "  brand: B\n",
      "- Eggs\n"
     ]
    }
   ],
   "source": [
    "# Shopping list\n",
    "\n",
    "def shopping_list(*items, **details):\n",
    "    print(\"Shopping List:\")\n",
    "    for item in items:\n",
    "        print(f\"- {item}\")\n",
    "        if item in details:\n",
    "            for key, value in details[item].items(): #details[item] is written because each key has its own dictionary to iterate over\n",
    "                print(f\"  {key}: {value}\")\n",
    "\n",
    "shopping_list(\n",
    "    \"Milk\", \"Bread\", \"Eggs\",\n",
    "    Milk={'quantity': '2 liters', 'brand': 'Amul'},\n",
    "    Bread={'quantity': '1 loaf', 'brand': 'B'}\n",
    ")\n"
   ]
  },
  {
   "cell_type": "code",
   "execution_count": 37,
   "metadata": {},
   "outputs": [
    {
     "name": "stdout",
     "output_type": "stream",
     "text": [
      "agrim = 90\n",
      "arihant = 20\n",
      "ralhan = 40\n"
     ]
    }
   ],
   "source": [
    "# Student marks\n",
    "\n",
    "def print_students(*names, **marks):\n",
    "    for name in names:\n",
    "        key = f\"{name}_marks\"\n",
    "        if key in marks:\n",
    "            print(f\"{name} = {marks[key]}\")\n",
    "        \n",
    "\n",
    "print_students(\"agrim\", \"arihant\", \"ralhan\", agrim_marks=90, arihant_marks=20, ralhan_marks=40)\n"
   ]
  },
  {
   "cell_type": "code",
   "execution_count": 38,
   "metadata": {},
   "outputs": [
    {
     "name": "stdout",
     "output_type": "stream",
     "text": [
      "[2, 4, 6, 8, 10]\n"
     ]
    }
   ],
   "source": [
    "# filter even words\n",
    "\n",
    "def even_num(numbers):\n",
    "    return list(filter(lambda x: x % 2 == 0, numbers))\n",
    "\n",
    "numbers = [1, 2, 3, 4, 5, 6, 7, 8, 9, 10]\n",
    "print(even_num(numbers))  \n"
   ]
  },
  {
   "cell_type": "code",
   "execution_count": 40,
   "metadata": {},
   "outputs": [
    {
     "name": "stdout",
     "output_type": "stream",
     "text": [
      "Original list of tuples:\n",
      "[('English', 88), ('Science', 90), ('Maths', 97), ('Social sciences', 82)]\n",
      "Sorting the List of Tuples:\n",
      "[('Maths', 97), ('Science', 90), ('English', 88), ('Social sciences', 82)]\n"
     ]
    }
   ],
   "source": [
    "# Sorting tuples using lamda\n",
    "\n",
    "subject_marks = [('English', 88), ('Science', 90), ('Maths', 97), ('Social sciences', 82)]\n",
    "\n",
    "print(\"Original list of tuples:\")\n",
    "print(subject_marks)\n",
    "\n",
    "subject_marks.sort(key=lambda x: x[1], reverse=True)\n",
    "\n",
    "print(\"Sorting the List of Tuples:\")\n",
    "print(subject_marks) \n"
   ]
  },
  {
   "cell_type": "code",
   "execution_count": 41,
   "metadata": {},
   "outputs": [
    {
     "name": "stdout",
     "output_type": "stream",
     "text": [
      "2024-07-01 23:21:16.957044\n",
      "Year:  2024\n",
      "Month:  7\n",
      "Day:  1\n",
      "Time:  23:21:16.957044\n"
     ]
    }
   ],
   "source": [
    "# Extract year, month, date and time using Lambda\n",
    "import datetime\n",
    "\n",
    "now = datetime.datetime.now()\n",
    "print(now)\n",
    "year = lambda x: x.year\n",
    "month = lambda x: x.month\n",
    "day = lambda x: x.day\n",
    "t = lambda x: x.time()\n",
    "\n",
    "print(\"Year: \",year(now))\n",
    "print(\"Month: \",month(now))\n",
    "print(\"Day: \",day(now))\n",
    "print(\"Time: \",t(now)) \n"
   ]
  },
  {
   "cell_type": "code",
   "execution_count": 42,
   "metadata": {},
   "outputs": [
    {
     "name": "stdout",
     "output_type": "stream",
     "text": [
      "Original list: [2, 4, -6, -9, 11, -12, 14, -5, 17]\n",
      "Sum of the negative numbers:  -32\n",
      "Sum of the positive numbers:  48\n"
     ]
    }
   ],
   "source": [
    "# Calculate sum of positive and negative nums\n",
    "\n",
    "nums = [2, 4, -6, -9, 11, -12, 14, -5, 17]\n",
    "print(\"Original list:\", nums)\n",
    "neg_nums = list(filter(lambda nums: nums < 0, nums))\n",
    "pos_nums = list(filter(lambda nums: nums > 0, nums))\n",
    "print(\"Sum of the negative numbers: \", sum(neg_nums))\n",
    "print(\"Sum of the positive numbers: \", sum(pos_nums))\n"
   ]
  },
  {
   "cell_type": "code",
   "execution_count": 45,
   "metadata": {},
   "outputs": [
    {
     "name": "stdout",
     "output_type": "stream",
     "text": [
      "115132219018763992565095597973971522401 is an Armstrong number.\n"
     ]
    }
   ],
   "source": [
    "# Function to check if a number is an Armstrong number\n",
    "\n",
    "is_armstrong = lambda num: num == sum(int(digit) ** len(str(num)) for digit in str(num))\n",
    "\n",
    "number = int(input(\"Enter a number: \"))\n",
    "\n",
    "if is_armstrong(number):\n",
    "    print(f\"{number} is an Armstrong number.\")\n",
    "else:\n",
    "    print(f\"{number} is not an Armstrong number.\")\n"
   ]
  },
  {
   "cell_type": "code",
   "execution_count": 51,
   "metadata": {},
   "outputs": [
    {
     "name": "stdout",
     "output_type": "stream",
     "text": [
      "12\n",
      "All arguments must be positive\n",
      "None\n"
     ]
    }
   ],
   "source": [
    "# Decorator to validate function arguments\n",
    "\n",
    "def check_positive(func):\n",
    "    def wrapper(*args, **kwargs):\n",
    "        if any(arg < 0 for arg in args):\n",
    "            return print(\"All arguments must be positive\")\n",
    "        return func(*args, **kwargs)\n",
    "    return wrapper\n",
    "\n",
    "@check_positive\n",
    "def multiply(a, b):\n",
    "    return a * b\n",
    "\n",
    "print(multiply(3, 4))  \n",
    "print(multiply(-3, 4))  \n",
    "\n"
   ]
  },
  {
   "cell_type": "code",
   "execution_count": 52,
   "metadata": {},
   "outputs": [
    {
     "name": "stdout",
     "output_type": "stream",
     "text": [
      "<class 'int'>\n",
      "<class 'str'>\n",
      "None\n"
     ]
    }
   ],
   "source": [
    "# Convert value to string\n",
    "\n",
    "def convert_to_string(func):\n",
    "    def wrapper(*args, **kwargs):\n",
    "        result = func(*args, **kwargs)\n",
    "        print(type(result))\n",
    "        result = str(result)\n",
    "        print(type(result))       \n",
    "    return wrapper\n",
    "\n",
    "@convert_to_string\n",
    "def add(a, b):\n",
    "    return a + b\n",
    "\n",
    "print(add(2, 3)) \n"
   ]
  },
  {
   "cell_type": "code",
   "execution_count": 81,
   "metadata": {},
   "outputs": [
    {
     "name": "stdout",
     "output_type": "stream",
     "text": [
      "Attempt 1 failed\n",
      "Attempt 2 failed\n",
      "Success!\n"
     ]
    }
   ],
   "source": [
    "# Retry functions \n",
    "\n",
    "def retry(times):\n",
    "    def decorator(func):\n",
    "        def wrapper(*args, **kwargs):\n",
    "            for i in range(times):\n",
    "                result = func(*args, **kwargs)\n",
    "                if result is None:\n",
    "                    print(f\"Attempt {i + 1} failed\")\n",
    "                else:\n",
    "                    return result\n",
    "            return None\n",
    "        return wrapper\n",
    "    return decorator\n",
    "\n",
    "@retry(3)\n",
    "def risky_function():\n",
    "    import random\n",
    "    if random.random() < 0.7:\n",
    "        return \"Success!\"\n",
    "\n",
    "print(risky_function())\n"
   ]
  },
  {
   "cell_type": "code",
   "execution_count": 82,
   "metadata": {},
   "outputs": [
    {
     "name": "stdout",
     "output_type": "stream",
     "text": [
      "Accessing wrapper with user 'admin'\n",
      "Admin operation performed by 'admin'\n",
      "Accessing wrapper with user 'guest'\n",
      "Unauthorized access for user 'guest'\n",
      "None\n"
     ]
    }
   ],
   "source": [
    "# Authorization and Logging\n",
    "\n",
    "def authorize(func):\n",
    "    def wrapper(user, *args, **kwargs):\n",
    "        if user == \"admin\":\n",
    "            return func(user, *args, **kwargs)\n",
    "        else:\n",
    "            print(f\"Unauthorized access for user '{user}'\")\n",
    "            return None\n",
    "    return wrapper\n",
    "\n",
    "def log_access(func):\n",
    "    def wrapper(user, *args, **kwargs):\n",
    "        print(f\"Accessing {func.__name__} with user '{user}'\")\n",
    "        return func(user, *args, **kwargs)\n",
    "    return wrapper\n",
    "\n",
    "@log_access\n",
    "@authorize\n",
    "def company(user):\n",
    "    return f\"Admin operation performed by '{user}'\"\n",
    "\n",
    "print(company(\"admin\"))     \n",
    "print(company(\"guest\"))     "
   ]
  },
  {
   "cell_type": "code",
   "execution_count": 84,
   "metadata": {},
   "outputs": [
    {
     "name": "stdout",
     "output_type": "stream",
     "text": [
      "1000\n",
      "1500\n",
      "1300\n",
      "Insufficient funds!\n"
     ]
    }
   ],
   "source": [
    "# Bank Account Statement \n",
    "\n",
    "class BankAccount:\n",
    "    def __init__(self, account_number, balance):\n",
    "        self.account_number = account_number\n",
    "        self.balance = balance\n",
    "    \n",
    "    def deposit(self, amount):\n",
    "        self.balance += amount\n",
    "    \n",
    "    def withdraw(self, amount):\n",
    "        if self.balance >= amount:\n",
    "            self.balance -= amount\n",
    "        else:\n",
    "            print(\"Insufficient funds!\")\n",
    "    \n",
    "    def get_balance(self):\n",
    "        return self.balance\n",
    "\n",
    "# Example usage\n",
    "account = BankAccount(\"123456789\", 1000)\n",
    "print(account.get_balance())\n",
    "account.deposit(500)\n",
    "print(account.get_balance())\n",
    "account.withdraw(200)\n",
    "print(account.get_balance())\n",
    "account.withdraw(2000)\n"
   ]
  },
  {
   "cell_type": "code",
   "execution_count": 86,
   "metadata": {},
   "outputs": [
    {
     "name": "stdout",
     "output_type": "stream",
     "text": [
      "Area of square is: 25\n",
      "Area of rectangle: 24\n",
      "Area of triangle: 6.0\n"
     ]
    }
   ],
   "source": [
    "# Calculating area of different shapes\n",
    "\n",
    "class Shape:\n",
    "    def calculate_area(self, *args):\n",
    "        if len(args) == 1:\n",
    "            s = args[0]\n",
    "            return print(\"Area of square is:\",s*s)\n",
    "        elif len(args) == 2:\n",
    "            length, breadth = args\n",
    "            return print(\"Area of rectangle:\", (length * breadth))\n",
    "        elif len(args) == 3:\n",
    "            a, b, c = args\n",
    "            area = 0.5*b*a\n",
    "            return print(\"Area of triangle:\", area)\n",
    "        else:\n",
    "            return (\"Unsupported number of argument\")\n",
    "\n",
    "\n",
    "shape = Shape()\n",
    "\n",
    "shape.calculate_area(5)\n",
    "\n",
    "shape.calculate_area(4, 6)\n",
    "\n",
    "shape.calculate_area(3, 4, 5)\n"
   ]
  },
  {
   "cell_type": "code",
   "execution_count": 91,
   "metadata": {},
   "outputs": [],
   "source": [
    "# Importing user defined modules \n",
    "class Employee:\n",
    "    def __init__(self, name, employee_id, salary):\n",
    "        self.name = name\n",
    "        self.employee_id = employee_id\n",
    "        self.salary = salary\n",
    "\n",
    "    def display_details(self):\n",
    "        return f\"Name: {self.name}, Employee ID: {self.employee_id}, Salary: ${self.salary}\"\n",
    "\n",
    "class Manager(Employee):\n",
    "    def __init__(self, name, employee_id, salary, department):\n",
    "        super().__init__(name, employee_id, salary)\n",
    "        self.department = department\n",
    "\n",
    "    def display_details(self):\n",
    "        return f\"Name: {self.name}, Employee ID: {self.employee_id}, Salary: ${self.salary}, Department: {self.department}\"\n"
   ]
  },
  {
   "cell_type": "code",
   "execution_count": 94,
   "metadata": {},
   "outputs": [
    {
     "name": "stdout",
     "output_type": "stream",
     "text": [
      "Employee Details:\n",
      "Name: John Doe, Employee ID: 1001, Salary: $50000\n",
      "\n",
      "Manager Details:\n",
      "Name: Alice Smith, Employee ID: 2001, Salary: $80000, Department: Marketing\n"
     ]
    }
   ],
   "source": [
    "from __main__ import Employee, Manager\n",
    "\n",
    "employee1 = Employee(\"John Doe\", 1001, 50000)\n",
    "manager1 = Manager(\"Alice Smith\", 2001, 80000, \"Marketing\")\n",
    "\n",
    "print(\"Employee Details:\")\n",
    "print(employee1.display_details())\n",
    "\n",
    "print(\"\\nManager Details:\")\n",
    "print(manager1.display_details())\n"
   ]
  }
 ],
 "metadata": {
  "kernelspec": {
   "display_name": "Python 3",
   "language": "python",
   "name": "python3"
  },
  "language_info": {
   "codemirror_mode": {
    "name": "ipython",
    "version": 3
   },
   "file_extension": ".py",
   "mimetype": "text/x-python",
   "name": "python",
   "nbconvert_exporter": "python",
   "pygments_lexer": "ipython3",
   "version": "3.10.6"
  }
 },
 "nbformat": 4,
 "nbformat_minor": 2
}
