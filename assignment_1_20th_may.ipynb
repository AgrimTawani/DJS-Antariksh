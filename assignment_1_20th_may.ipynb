{
 "cells": [
  {
   "cell_type": "code",
   "execution_count": 3,
   "metadata": {},
   "outputs": [],
   "source": [
    "# string methods, operations\n",
    "# if - else\n",
    "# for, while\n",
    "# dicts, lists, tuples\n"
   ]
  },
  {
   "cell_type": "code",
   "execution_count": 21,
   "metadata": {},
   "outputs": [
    {
     "name": "stdout",
     "output_type": "stream",
     "text": [
      "The team with the highest score is team3 with a score of 9.\n"
     ]
    }
   ],
   "source": [
    "# Print the team of highest score\n",
    "# Remove an element from lists in list\n",
    "# Removing only strings from the tuples in list\n",
    "# Find the Second Largest Element in Lists in list\n",
    "# Calculate the total value of inventory\n",
    "\n",
    "# Discount on products\n",
    "# Show temperature\n",
    "# check password strength\n",
    "# Temperatue converter\n",
    "# Check the type of triangle\n",
    "\n",
    "# Fibonacci Sequence\n",
    "# Print tables\n",
    "# Random number guessing game\n",
    "# Reverse a number\n",
    "# character counter\n",
    "\n",
    "# Replace s to $ in a string\n",
    "# Spit string into words\n",
    "# Capitalize only vowels in a string\n",
    "#  join words into a sentence\n",
    "\n"
   ]
  },
  {
   "cell_type": "code",
   "execution_count": 23,
   "metadata": {},
   "outputs": [
    {
     "name": "stdout",
     "output_type": "stream",
     "text": [
      "The average score of all teams is 4.75.\n",
      "The team with the highest score is team3 with a score of 9.\n"
     ]
    }
   ],
   "source": [
    "# Print the team of highest score\n",
    "\n",
    "football_team = [{'team1': 4}, {'team2': 5}, {'team3': 9}, {'team4': 1}]\n",
    "\n",
    "max_score = 0\n",
    "best_team = ''\n",
    "total_score = 0 \n",
    "number_of_teams = 0 \n",
    "\n",
    "for team_scores in football_team:\n",
    "\n",
    "    for team, score in team_scores.items():\n",
    "        if score > max_score:\n",
    "            max_score = score\n",
    "            best_team = team\n",
    "\n",
    "    for score in team_scores.values():\n",
    "        total_score += score\n",
    "        number_of_teams += 1\n",
    "\n",
    "average_score = total_score / number_of_teams\n",
    "print(f\"The average score of all teams is {average_score:.2f}.\")\n",
    "print(f\"The team with the highest score is {best_team} with a score of {max_score}.\")"
   ]
  },
  {
   "cell_type": "code",
   "execution_count": 29,
   "metadata": {},
   "outputs": [
    {
     "name": "stdout",
     "output_type": "stream",
     "text": [
      "List of lists after removing 2: [[1, 3], [4], [5, 6]]\n"
     ]
    }
   ],
   "source": [
    "# Remove an element from lists in list\n",
    "\n",
    "nested_list = [[1, 2, 3], [2, 4, 2], [5, 2, 6]]\n",
    "element_to_remove = 2\n",
    "\n",
    "for sublist in nested_list:\n",
    "    while element_to_remove in sublist:\n",
    "        sublist.remove(element_to_remove)\n",
    "    \n",
    "\n",
    "print(f\"List of lists after removing {element_to_remove}: {nested_list}\")\n"
   ]
  },
  {
   "cell_type": "code",
   "execution_count": 32,
   "metadata": {},
   "outputs": [
    {
     "name": "stdout",
     "output_type": "stream",
     "text": [
      "The original list is : [('Str1', 'Str2'), ('Str3', 19), (3, 4), (12, 3), ('Str4',)]\n",
      "Removed all tuples containing strings : [(3, 4), (12, 3)]\n"
     ]
    }
   ],
   "source": [
    "# Removing only strings from the tuples in list\n",
    "\n",
    "test_list = [(\"Str1\", \"Str2\"), (\"Str3\", 19), (3, 4), (12, 3), (\"Str4\", )]\n",
    "\n",
    "print(\"The original list is : \" + str(test_list))\n",
    "res = []\n",
    "\n",
    "for element in test_list:\n",
    "    isString = False\n",
    "    for item in element:\n",
    "        if type(item) == str:\n",
    "            isString = True\n",
    "            break\n",
    "    if not isString:\n",
    "        res.append(element)\n",
    "\n",
    "print(\"Removed all tuples containing strings : \" + str(res))\n"
   ]
  },
  {
   "cell_type": "code",
   "execution_count": 36,
   "metadata": {},
   "outputs": [
    {
     "name": "stdout",
     "output_type": "stream",
     "text": [
      "The second largest element is: 8\n"
     ]
    }
   ],
   "source": [
    "# Find the Second Largest Element in Lists in list\n",
    "\n",
    "sample = [[1, 2, 3], [4, 5, 6], [7, 8, 9]]\n",
    "\n",
    "combined_list = [item for sublist in sample for item in sublist]\n",
    "\n",
    "unique_elements = list(combined_list)\n",
    "\n",
    "unique_elements.sort()\n",
    "unique_elements.reverse()\n",
    "\n",
    "second_largest = unique_elements[1]\n",
    "\n",
    "print(\"The second largest element is:\", second_largest)\n"
   ]
  },
  {
   "cell_type": "code",
   "execution_count": 1,
   "metadata": {},
   "outputs": [
    {
     "name": "stdout",
     "output_type": "stream",
     "text": [
      "Inventory:\n",
      " [('Apple', 10, 1.5), ('Banana', 15, 0.75), ('Orange', 8, 2.0), ('Mango', 12, 3.0)]\n",
      "Total value of inventory: 78.25\n"
     ]
    }
   ],
   "source": [
    "# Calculate the total value of inventory\n",
    "\n",
    "inventory = [(\"Apple\", 10, 1.5), (\"Banana\", 15, 0.75), (\"Orange\", 8, 2.0)] # (item, quantity, price)\n",
    "inventory.append((\"Mango\", 12, 3.0)) \n",
    "\n",
    "total_value = 0\n",
    "for item, quantity, price in inventory:\n",
    "    total_value += quantity * price\n",
    "\n",
    "print(\"Inventory:\\n\", inventory)\n",
    "print(\"Total value of inventory:\", total_value)\n"
   ]
  },
  {
   "cell_type": "code",
   "execution_count": 2,
   "metadata": {},
   "outputs": [
    {
     "name": "stdout",
     "output_type": "stream",
     "text": [
      "The price of Laptop after discount is: 960.00\n",
      "The price of Mouse after discount is: 23.75\n",
      "The price of Keyboard after discount is: 67.50\n",
      "The price of Monitor after discount is: 120.00\n"
     ]
    }
   ],
   "source": [
    "# Discount on products\n",
    "\n",
    "products = [(\"Laptop\", 1200), (\"Mouse\", 25), (\"Keyboard\", 75), (\"Monitor\", 150)]\n",
    "\n",
    "for product, price in products:\n",
    "    if price > 100:\n",
    "        discount = price * 0.20\n",
    "    elif price >= 50:\n",
    "        discount = price * 0.10\n",
    "    else:\n",
    "        discount = price * 0.05\n",
    "\n",
    "    new_price = price - discount\n",
    "    print(f\"The price of {product} after discount is: {new_price:.2f}\")\n"
   ]
  },
  {
   "cell_type": "code",
   "execution_count": 3,
   "metadata": {},
   "outputs": [
    {
     "name": "stdout",
     "output_type": "stream",
     "text": [
      "Monday is cold.\n",
      "Tuesday is warm.\n",
      "Wednesday is hot.\n",
      "Thursday is warm.\n",
      "Friday is warm.\n"
     ]
    }
   ],
   "source": [
    "# Show temperature\n",
    "\n",
    "temperatures = [(\"Monday\", 10), (\"Tuesday\", 20), (\"Wednesday\", 30), (\"Thursday\", 15), (\"Friday\", 25)]\n",
    "\n",
    "for day, temp in temperatures:\n",
    "    if temp < 15:\n",
    "        print(f\"{day} is cold.\")\n",
    "    elif temp <= 25:\n",
    "        print(f\"{day} is warm.\")\n",
    "    else:\n",
    "        print(f\"{day} is hot.\")\n"
   ]
  },
  {
   "cell_type": "code",
   "execution_count": 5,
   "metadata": {},
   "outputs": [
    {
     "name": "stdout",
     "output_type": "stream",
     "text": [
      "Valid password.\n"
     ]
    }
   ],
   "source": [
    "# check password strength\n",
    "\n",
    "def check_password_validity(password):\n",
    "    if len(password) < 8:\n",
    "        return \"Password must be at least 8 characters long.\"\n",
    "    \n",
    "    has_lower = False\n",
    "    has_upper = False\n",
    "    has_digit = False\n",
    "    has_special = False\n",
    "    special_characters = \"!@#$%^&*(),.?\\\":{}|<>\"\n",
    "\n",
    "    for char in password:\n",
    "        if char.islower():\n",
    "            has_lower = True\n",
    "        elif char.isupper():\n",
    "            has_upper = True\n",
    "        elif char.isdigit():\n",
    "            has_digit = True\n",
    "        elif char in special_characters:\n",
    "            has_special = True\n",
    "\n",
    "    if not has_lower:\n",
    "        return \"Password must contain at least one lowercase letter.\"\n",
    "    \n",
    "    if not has_upper:\n",
    "        return \"Password must contain at least one uppercase letter.\"\n",
    "\n",
    "    if not has_digit:\n",
    "        return \"Password must contain at least one digit.\"\n",
    "\n",
    "    if not has_special:\n",
    "        return \"Password must contain at least one special character.\"\n",
    "\n",
    "    return \"Valid password.\"\n",
    "\n",
    "\n",
    "password = input(\"Enter your password: \")\n",
    "result = check_password_validity(password)\n",
    "print(result)\n",
    "\n"
   ]
  },
  {
   "cell_type": "code",
   "execution_count": 6,
   "metadata": {},
   "outputs": [
    {
     "name": "stdout",
     "output_type": "stream",
     "text": [
      "The temp in fahrenheit is 109.4\n"
     ]
    }
   ],
   "source": [
    "# Temperatue converter\n",
    "\n",
    "def convert_temperature(unit, temperature):\n",
    "    if unit.lower() == 'celsius':\n",
    "        converted_temp = (temperature * 9/5) + 32\n",
    "        converted_unit = 'fahrenheit'\n",
    "        print(f\"The temp in {converted_unit} is {converted_temp}\")\n",
    "    elif unit.lower() == 'fahrenheit':\n",
    "        converted_temp = (temperature - 32) * 5/9\n",
    "        converted_unit = 'celsius'\n",
    "        print(f\"The temp in {converted_unit} is {converted_temp}\")\n",
    "    else:\n",
    "        return \"Invalid unit\"\n",
    "\n",
    "\n",
    "unit = input(\"Enter the unit of temperature (Celsius or Fahrenheit): \")\n",
    "temperature = int(input(f\"Enter the temperature in {unit}: \"))\n",
    "convert_temperature(unit, temperature)"
   ]
  },
  {
   "cell_type": "code",
   "execution_count": 8,
   "metadata": {},
   "outputs": [
    {
     "name": "stdout",
     "output_type": "stream",
     "text": [
      "Triangle type: Right-angled triangle\n"
     ]
    }
   ],
   "source": [
    "# Check the type of triangle\n",
    "\n",
    "def triangle_type(side1, side2, side3):\n",
    "    if side1 == side2 == side3:\n",
    "        return \"Equilateral triangle\"\n",
    "    sides = [side1, side2, side3]\n",
    "    sides.sort()\n",
    "    if sides[0]**2 + sides[1]**2 == sides[2]**2:\n",
    "        return \"Right-angled triangle\"\n",
    "    elif side1 == side2 or side1 == side3 or side2 == side3:\n",
    "        return \"Isosceles triangle\"\n",
    "    else:\n",
    "        return \"Scalene triangle\"\n",
    "\n",
    "\n",
    "side1 = int(input(\"Enter the length of side 1: \"))\n",
    "side2 = int(input(\"Enter the length of side 2: \"))\n",
    "side3 = int(input(\"Enter the length of side 3: \"))\n",
    "print(\"Triangle type:\", triangle_type(side1, side2, side3))\n",
    "\n"
   ]
  },
  {
   "cell_type": "code",
   "execution_count": 10,
   "metadata": {},
   "outputs": [
    {
     "name": "stdout",
     "output_type": "stream",
     "text": [
      "Fibonacci series: [0, 1, 1, 2, 3, 5]\n"
     ]
    }
   ],
   "source": [
    "# Fibonacci Sequence \n",
    "\n",
    "n = int(input(\"Enter the number of terms: \"))\n",
    "\n",
    "fib_series = []\n",
    "a, b = 0, 1\n",
    "count = 0\n",
    "\n",
    "while count < n:\n",
    "    fib_series.append(a)\n",
    "    a, b = b, a + b\n",
    "    count += 1\n",
    "print(\"Fibonacci series:\", fib_series)\n"
   ]
  },
  {
   "cell_type": "code",
   "execution_count": 14,
   "metadata": {},
   "outputs": [
    {
     "name": "stdout",
     "output_type": "stream",
     "text": [
      "Multiplication table:\n",
      "3 x 1 = 3\n",
      "3 x 2 = 6\n",
      "3 x 3 = 9\n",
      "3 x 4 = 12\n",
      "3 x 5 = 15\n",
      "3 x 6 = 18\n",
      "3 x 7 = 21\n",
      "3 x 8 = 24\n",
      "3 x 9 = 27\n",
      "3 x 10 = 30\n"
     ]
    }
   ],
   "source": [
    "# Print tables\n",
    "\n",
    "def multiplication_table(n):\n",
    "    i = 1\n",
    "    while i <= 10:\n",
    "        print(f\"{n} x {i} = {n*i}\")\n",
    "        i += 1\n",
    "\n",
    "num = int(input(\"Enter a number: \"))\n",
    "print(\"Multiplication table:\")\n",
    "multiplication_table(num)\n"
   ]
  },
  {
   "cell_type": "code",
   "execution_count": 15,
   "metadata": {},
   "outputs": [
    {
     "name": "stdout",
     "output_type": "stream",
     "text": [
      "You guessed the num 4 in 1 attempts.\n"
     ]
    }
   ],
   "source": [
    "# Random number guessing game\n",
    "\n",
    "import random\n",
    "\n",
    "target_number = random.randint(1, 10)\n",
    "attempts = 0\n",
    "while True:\n",
    "    guess = int(input(\"Guess a num b/w 1 and 10: \"))\n",
    "    attempts += 1\n",
    "    if guess < target_number:\n",
    "        print(\"Too low!\")\n",
    "    elif guess > target_number:\n",
    "        print(\"Too high!\")\n",
    "    else:\n",
    "        print(f\"You guessed the num {target_number} in {attempts} attempts.\")\n",
    "        break\n",
    "\n",
    "\n"
   ]
  },
  {
   "cell_type": "code",
   "execution_count": 16,
   "metadata": {},
   "outputs": [
    {
     "name": "stdout",
     "output_type": "stream",
     "text": [
      "Given Number  12345\n",
      "Revere Number  54321\n"
     ]
    }
   ],
   "source": [
    "# Reverse a number\n",
    "\n",
    "num = int(input(\"Enter a num\"))\n",
    "reverse_number = 0\n",
    "print(\"Given Number \", num)\n",
    "while num > 0:\n",
    "    reminder = num % 10\n",
    "    reverse_number = (reverse_number * 10) + reminder\n",
    "    num = num // 10\n",
    "print(\"Revere Number \", reverse_number)"
   ]
  },
  {
   "cell_type": "code",
   "execution_count": 17,
   "metadata": {},
   "outputs": [
    {
     "name": "stdout",
     "output_type": "stream",
     "text": [
      "Character frequency:\n",
      "H: 1\n",
      "e: 1\n",
      "l: 3\n",
      "o: 2\n",
      " : 1\n",
      "W: 1\n",
      "r: 1\n",
      "d: 1\n"
     ]
    }
   ],
   "source": [
    "# character counter\n",
    "\n",
    "def counter(input_str):\n",
    "    frequency = {}\n",
    "    for char in input_str:\n",
    "        if char in frequency:\n",
    "            frequency[char] += 1\n",
    "        else:\n",
    "            frequency[char] = 1\n",
    "    return frequency\n",
    "\n",
    "\n",
    "input_str = input(\"Enter a string: \")\n",
    "frequency = counter(input_str)\n",
    "print(\"Character frequency:\")\n",
    "for char, freq in frequency.items():\n",
    "    print(f\"{char}: {freq}\")\n"
   ]
  },
  {
   "cell_type": "code",
   "execution_count": 20,
   "metadata": {},
   "outputs": [
    {
     "name": "stdout",
     "output_type": "stream",
     "text": [
      "See this String is so diff\n",
      "$ee thi$ $tring i$ $o diff\n"
     ]
    }
   ],
   "source": [
    "# replace s to $ in a string\n",
    "\n",
    "input_str = input(\"Enter a string: \")\n",
    "modified_str = input_str.replace(\"s\", \"$\").replace(\"S\", \"$\")\n",
    "print(input_str)\n",
    "print(modified_str)\n"
   ]
  },
  {
   "cell_type": "code",
   "execution_count": 21,
   "metadata": {},
   "outputs": [
    {
     "name": "stdout",
     "output_type": "stream",
     "text": [
      "The words in the sentence are:\n",
      "this\n",
      "is\n",
      "a\n",
      "very\n",
      "long\n",
      "sentence\n"
     ]
    }
   ],
   "source": [
    "# Spit string into words\n",
    "\n",
    "sentence = input(\"Enter a sentence: \")\n",
    "words = sentence.split()\n",
    "print(\"The words in the sentence are:\")\n",
    "for word in words:\n",
    "    print(word)\n"
   ]
  },
  {
   "cell_type": "code",
   "execution_count": 23,
   "metadata": {},
   "outputs": [
    {
     "name": "stdout",
     "output_type": "stream",
     "text": [
      "Modified string with vowels capitalized: ThIs Is A vEry lOng sEntEncE\n"
     ]
    }
   ],
   "source": [
    "# Capitalize only vowels in a string\n",
    "\n",
    "input_str = input(\"Enter a string: \")\n",
    "vowels = \"aeiou\"\n",
    "\n",
    "modified_str = \"\"\n",
    "for char in input_str:\n",
    "    if char in vowels:\n",
    "        modified_str += char.upper()\n",
    "    elif char in vowels.upper():\n",
    "        modified_str += char.upper()\n",
    "    else:\n",
    "        modified_str += char\n",
    "\n",
    "print(\"Modified string with vowels capitalized:\", modified_str)\n"
   ]
  },
  {
   "cell_type": "code",
   "execution_count": 26,
   "metadata": {},
   "outputs": [
    {
     "name": "stdout",
     "output_type": "stream",
     "text": [
      "['this', 'string', 'is', 'separated', 'by', 'commas']\n",
      "this string is separated by commas.\n"
     ]
    }
   ],
   "source": [
    "# join words into a sentence\n",
    "\n",
    "words = input(\"Enter words separated by commas: \").split(',')\n",
    "words = [word.strip() for word in words]\n",
    "sentence = \" \".join(words) + \".\"\n",
    "print(words)\n",
    "print(sentence)\n"
   ]
  },
  {
   "cell_type": "code",
   "execution_count": null,
   "metadata": {},
   "outputs": [],
   "source": []
  }
 ],
 "metadata": {
  "kernelspec": {
   "display_name": "Python 3",
   "language": "python",
   "name": "python3"
  },
  "language_info": {
   "codemirror_mode": {
    "name": "ipython",
    "version": 3
   },
   "file_extension": ".py",
   "mimetype": "text/x-python",
   "name": "python",
   "nbconvert_exporter": "python",
   "pygments_lexer": "ipython3",
   "version": "3.10.6"
  }
 },
 "nbformat": 4,
 "nbformat_minor": 2
}
